
{
 "cells": [
  {
   "cell_type": "code",
   "execution_count": 1,
   "id": "0760a942-de9b-4f80-b046-010e75c3a38c",
   "metadata": {},
   "outputs": [
    {
     "name": "stdout",
     "output_type": "stream",
     "text": [
      "   Feature1  Feature2  Target\n",
      "0         1        10       2\n",
      "1         2        20       4\n",
      "2         3        30       6\n",
      "3         4        40       8\n",
      "4         5        50      10\n"
     ]
    }
   ],
   "source": [
    "import pandas as pd\n",
    "\n",
    "# Sample DataFrame\n",
    "data = {\n",
    "    \"Feature1\": [1, 2, 3, 4, 5],\n",
    "    \"Feature2\": [10, 20, 30, 40, 50],\n",
    "    \"Target\": [2, 4, 6, 8, 10]\n",
    "}\n",
    "\n",
    "df = pd.DataFrame(data)\n",
    "\n",
    "# Display the first 5 rows\n",
    "print(df.head())\n"
   ]
  },
  {
   "cell_type": "code",
   "execution_count": 3,
   "id": "e16f9087-1c8f-4f07-8d68-a212593ab466",
   "metadata": {},
   "outputs": [
    {
     "name": "stdout",
     "output_type": "stream",
     "text": [
      "<bound method NDFrame.describe of    Feature1  Feature2  Target\n",
      "0         1        10       2\n",
      "1         2        20       4\n",
      "2         3        30       6\n",
      "3         4        40       8\n",
      "4         5        50      10>\n"
     ]
    }
   ],
   "source": [
    "print(df.describe) # Generate summary statistics"
   ]
  },
  {
   "cell_type": "code",
   "execution_count": null,
   "id": "ea70dc58-1fb3-421c-b3c7-c7e7d6ef8974",
   "metadata": {},
   "outputs": [],
   "source": []
  }
 ],
 "metadata": {
  "kernelspec": {
   "display_name": "Python 3 (ipykernel)",
   "language": "python",
   "name": "python3"
  },
  "language_info": {
   "codemirror_mode": {
    "name": "ipython",
    "version": 3
   },
   "file_extension": ".py",
   "mimetype": "text/x-python",
   "name": "python",
   "nbconvert_exporter": "python",
   "pygments_lexer": "ipython3",
   "version": "3.13.0"
  }
 },
 "nbformat": 4,
 "nbformat_minor": 5
}
