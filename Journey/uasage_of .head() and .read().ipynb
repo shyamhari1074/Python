# DataFrame Summary and Exploration Script 📊

This script demonstrates basic DataFrame operations in Python using the **Pandas** library. It showcases how to inspect a dataset by displaying its first few rows and generating summary statistics.

---

## 🔧 Requirements

Ensure you have the following installed on your system:
- Python 3.x
- Pandas library

Install Pandas using pip if you don't already have it:
```bash
pip install pandas
```

---

## 📄 Code Overview

### Functionality:
1. **Creates a DataFrame** with sample data.
2. **Displays the first few rows** of the DataFrame using `.head()`.
3. **Generates summary statistics** for the DataFrame using `.describe()`.

### Code Snippet:
```python
import pandas as pd

# Sample DataFrame
data = {
    "Feature1": [1, 2, 3, 4, 5],
    "Feature2": [10, 20, 30, 40, 50],
    "Target": [2, 4, 6, 8, 10]
}

df = pd.DataFrame(data)

# Display the first 5 rows
print(df.head())

# Generate summary statistics
print(df.describe())
```

---

## 💡 Key Outputs

1. **`df.head()`**:
   - Displays the first 5 rows of the dataset to inspect its structure.
   
   Example Output:
   ```
      Feature1  Feature2  Target
   0         1        10       2
   1         2        20       4
   2         3        30       6
   3         4        40       8
   4         5        50      10
   ```

2. **`df.describe()`**:
   - Provides summary statistics for all numerical columns in the DataFrame.
   
   Example Output:
   ```
          Feature1   Feature2     Target
   count   5.00000   5.00000   5.000000
   mean    3.00000  30.00000   6.000000
   std     1.58114  15.81139   3.162278
   min     1.00000  10.00000   2.000000
   25%     2.00000  20.00000   4.000000
   50%     3.00000  30.00000   6.000000
   75%     4.00000  40.00000   8.000000
   max     5.00000  50.00000  10.000000
   ```

---

## 🔍 Use Case

This script is useful for:
- Quickly inspecting a dataset during the early stages of data analysis.
- Understanding the distribution and basic statistical properties of your data.

---

## 🖋️ Author

**Shyam Hari**  
[GitHub Profile](https://github.com/shyamhari1074)  

---

## 🌟 Contributions

Feel free to suggest improvements or contribute to this script by creating a pull request!

---

## 🖍️ License

This project is open-source and available under the [MIT License](LICENSE).
{
 "cells": [
  {
   "cell_type": "code",
   "execution_count": 1,
   "id": "0760a942-de9b-4f80-b046-010e75c3a38c",
   "metadata": {},
   "outputs": [
    {
     "name": "stdout",
     "output_type": "stream",
     "text": [
      "   Feature1  Feature2  Target\n",
      "0         1        10       2\n",
      "1         2        20       4\n",
      "2         3        30       6\n",
      "3         4        40       8\n",
      "4         5        50      10\n"
     ]
    }
   ],
   "source": [
    "import pandas as pd\n",
    "\n",
    "# Sample DataFrame\n",
    "data = {\n",
    "    \"Feature1\": [1, 2, 3, 4, 5],\n",
    "    \"Feature2\": [10, 20, 30, 40, 50],\n",
    "    \"Target\": [2, 4, 6, 8, 10]\n",
    "}\n",
    "\n",
    "df = pd.DataFrame(data)\n",
    "\n",
    "# Display the first 5 rows\n",
    "print(df.head())\n"
   ]
  },
  {
   "cell_type": "code",
   "execution_count": 3,
   "id": "e16f9087-1c8f-4f07-8d68-a212593ab466",
   "metadata": {},
   "outputs": [
    {
     "name": "stdout",
     "output_type": "stream",
     "text": [
      "<bound method NDFrame.describe of    Feature1  Feature2  Target\n",
      "0         1        10       2\n",
      "1         2        20       4\n",
      "2         3        30       6\n",
      "3         4        40       8\n",
      "4         5        50      10>\n"
     ]
    }
   ],
   "source": [
    "print(df.describe) # Generate summary statistics"
   ]
  },
  {
   "cell_type": "code",
   "execution_count": null,
   "id": "ea70dc58-1fb3-421c-b3c7-c7e7d6ef8974",
   "metadata": {},
   "outputs": [],
   "source": []
  }
 ],
 "metadata": {
  "kernelspec": {
   "display_name": "Python 3 (ipykernel)",
   "language": "python",
   "name": "python3"
  },
  "language_info": {
   "codemirror_mode": {
    "name": "ipython",
    "version": 3
   },
   "file_extension": ".py",
   "mimetype": "text/x-python",
   "name": "python",
   "nbconvert_exporter": "python",
   "pygments_lexer": "ipython3",
   "version": "3.13.0"
  }
 },
 "nbformat": 4,
 "nbformat_minor": 5
}
