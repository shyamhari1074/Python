{
 "cells": [
  {
   "cell_type": "code",
   "execution_count": 1,
   "id": "02c92d6b-4770-4d11-85d3-8aad135aa70a",
   "metadata": {},
   "outputs": [
    {
     "name": "stdout",
     "output_type": "stream",
     "text": [
      "   student_id  age\n",
      "0           1   15\n",
      "1           2   11\n",
      "2           3   11\n",
      "3           4   20\n"
     ]
    }
   ],
   "source": [
    "import pandas as pd\n",
    "def createDataframe(student_data) :\n",
    "    df=pd.DataFrame(student_data,columns=[\"student_id\",\"age\"])\n",
    "    return df\n",
    "student_data= [\n",
    "  [1, 15],\n",
    "  [2, 11],\n",
    "  [3, 11],\n",
    "  [4, 20]\n",
    "  ]\n",
    "print(createDataframe(student_data))"
   ]
  },
  {
   "cell_type": "code",
   "execution_count": null,
   "id": "65e1bd84-fa09-4e1f-8a5f-0fda777dfb11",
   "metadata": {},
   "outputs": [],
   "source": []
  }
 ],
 "metadata": {
  "kernelspec": {
   "display_name": "Python 3 (ipykernel)",
   "language": "python",
   "name": "python3"
  },
  "language_info": {
   "codemirror_mode": {
    "name": "ipython",
    "version": 3
   },
   "file_extension": ".py",
   "mimetype": "text/x-python",
   "name": "python",
   "nbconvert_exporter": "python",
   "pygments_lexer": "ipython3",
   "version": "3.13.0"
  }
 },
 "nbformat": 4,
 "nbformat_minor": 5
}
