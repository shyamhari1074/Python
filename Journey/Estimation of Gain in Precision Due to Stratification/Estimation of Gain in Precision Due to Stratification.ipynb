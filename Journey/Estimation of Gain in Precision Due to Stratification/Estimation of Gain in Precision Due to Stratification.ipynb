{
 "cells": [
  {
   "cell_type": "code",
   "execution_count": 10,
   "id": "71e17498-486b-4b91-bff2-d40b796a201b",
   "metadata": {},
   "outputs": [],
   "source": [
    "import pandas as pd\n",
    "from sklearn.model_selection import train_test_split\n",
    "from sklearn.linear_model import LogisticRegression\n",
    "from sklearn.metrics import precision_score\n",
    "from sklearn.preprocessing import OneHotEncoder, StandardScaler\n",
    "df = pd.read_csv(\"train.csv\")"
   ]
  },
  {
   "cell_type": "code",
   "execution_count": 11,
   "id": "8cd974d1-0eda-4927-945f-50784ed86ef3",
   "metadata": {},
   "outputs": [],
   "source": [
    "# Define features and target\n",
    "X = df.drop(columns=[\"Credit Default\", \"Id\"])\n",
    "y = df[\"Credit Default\"]\n",
    "\n",
    "# Convert categorical columns to one-hot encoding if necessary\n",
    "categorical_cols = X.select_dtypes(include=['object']).columns\n",
    "if len(categorical_cols) > 0:\n",
    "    X = pd.get_dummies(X, columns=categorical_cols)\n",
    "\n",
    "# Handle missing values (basic approach)\n",
    "X = X.fillna(X.mean())\n",
    "\n"
   ]
  },
  {
   "cell_type": "code",
   "execution_count": 12,
   "id": "d17a272a-2c59-4fbb-b0cd-8c8094592b3b",
   "metadata": {},
   "outputs": [],
   "source": [
    "# Standardize numerical features\n",
    "scaler = StandardScaler()\n",
    "X = pd.DataFrame(scaler.fit_transform(X), columns=X.columns)\n",
    "\n",
    "# Split data without stratification\n",
    "X_train, X_test, y_train, y_test = train_test_split(X, y, test_size=0.2, random_state=42)\n",
    "\n",
    "# Train baseline model\n",
    "model = LogisticRegression()\n",
    "model.fit(X_train, y_train)\n",
    "\n",
    "# Get predictions and calculate precision\n",
    "baseline_preds = model.predict(X_test)\n",
    "baseline_precision = precision_score(y_test, baseline_preds, average=\"binary\")\n",
    "\n"
   ]
  },
  {
   "cell_type": "code",
   "execution_count": 13,
   "id": "f7dbf882-2c83-4bd5-9622-25175cedb848",
   "metadata": {},
   "outputs": [
    {
     "name": "stdout",
     "output_type": "stream",
     "text": [
      "Baseline Precision: 0.8252\n",
      "Stratified Precision: 0.7440\n",
      "Gain in Precision: -0.0811\n"
     ]
    }
   ],
   "source": [
    "# Stratified split\n",
    "X_train_strat, X_test_strat, y_train_strat, y_test_strat = train_test_split(\n",
    "    X, y, test_size=0.2, random_state=42, stratify=y)\n",
    "\n",
    "# Train model on stratified data\n",
    "model_strat = LogisticRegression()\n",
    "model_strat.fit(X_train_strat, y_train_strat)\n",
    "\n",
    "# Get predictions and calculate stratified precision\n",
    "stratified_preds = model_strat.predict(X_test_strat)\n",
    "stratified_precision = precision_score(y_test_strat, stratified_preds, average=\"binary\")\n",
    "\n",
    "# Calculate gain in precision\n",
    "gain_in_precision = stratified_precision - baseline_precision\n",
    "\n",
    "# Output results\n",
    "print(f\"Baseline Precision: {baseline_precision:.4f}\")\n",
    "print(f\"Stratified Precision: {stratified_precision:.4f}\")\n",
    "print(f\"Gain in Precision: {gain_in_precision:.4f}\")"
   ]
  },
  {
   "cell_type": "code",
   "execution_count": null,
   "id": "aae89a4f-596a-4ad5-a121-3eaab55d67a8",
   "metadata": {},
   "outputs": [],
   "source": []
  }
 ],
 "metadata": {
  "kernelspec": {
   "display_name": "Python 3 (ipykernel)",
   "language": "python",
   "name": "python3"
  },
  "language_info": {
   "codemirror_mode": {
    "name": "ipython",
    "version": 3
   },
   "file_extension": ".py",
   "mimetype": "text/x-python",
   "name": "python",
   "nbconvert_exporter": "python",
   "pygments_lexer": "ipython3",
   "version": "3.13.0"
  }
 },
 "nbformat": 4,
 "nbformat_minor": 5
}
