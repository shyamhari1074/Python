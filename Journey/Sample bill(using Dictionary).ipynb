{
 "cells": [
  {
   "cell_type": "code",
   "execution_count": 2,
   "id": "a1eab8e2-1bbb-4e7e-bd5e-8aeecc7360ba",
   "metadata": {},
   "outputs": [
    {
     "name": "stdout",
     "output_type": "stream",
     "text": [
      "the bill is : 1220\n"
     ]
    }
   ],
   "source": [
    "price={\n",
    "    \"noodles\":120,\n",
    "    \"biriyani\":140,\n",
    "    \"porotta with combo\": 180,\n",
    "    \"meals\":80\n",
    "}\n",
    "quantity={\n",
    "     \"noodles\":2,\n",
    "     \"biriyani\":2,\n",
    "     \"porotta with combo\": 3,\n",
    "     \"meals\":2\n",
    "}\n",
    "total=0\n",
    "for i in price:\n",
    "    total=total+(price[i]*quantity[i])\n",
    "    \n",
    "print(\"the bill is :\",total)"
   ]
  },
  {
   "cell_type": "code",
   "execution_count": null,
   "id": "cd7ced12-cca8-4826-98bb-c7609b8e9ba0",
   "metadata": {},
   "outputs": [],
   "source": []
  }
 ],
 "metadata": {
  "kernelspec": {
   "display_name": "Python 3 (ipykernel)",
   "language": "python",
   "name": "python3"
  },
  "language_info": {
   "codemirror_mode": {
    "name": "ipython",
    "version": 3
   },
   "file_extension": ".py",
   "mimetype": "text/x-python",
   "name": "python",
   "nbconvert_exporter": "python",
   "pygments_lexer": "ipython3",
   "version": "3.12.6"
  }
 },
 "nbformat": 4,
 "nbformat_minor": 5
}
