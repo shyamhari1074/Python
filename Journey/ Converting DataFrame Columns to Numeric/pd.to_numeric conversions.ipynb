{
 "cells": [
  {
   "cell_type": "code",
   "execution_count": 4,
   "id": "d894d2f0-8caf-4e44-bcf0-363b2218a503",
   "metadata": {},
   "outputs": [
    {
     "name": "stdout",
     "output_type": "stream",
     "text": [
      "Before applying pd.to_numeric:\n",
      "      A     B\n",
      "0     1  10.5\n",
      "1     2  20.3\n",
      "2     3   xyz\n",
      "3  four  40.2\n",
      "4     5  50.1\n",
      "\n",
      "After applying pd.to_numeric(errors='coerce'):\n",
      "     A     B\n",
      "0  1.0  10.5\n",
      "1  2.0  20.3\n",
      "2  3.0   NaN\n",
      "3  NaN  40.2\n",
      "4  5.0  50.1\n"
     ]
    }
   ],
   "source": [
    "import pandas as pd\n",
    "data = {\n",
    "    'A': ['1', '2', '3', 'four', '5'],\n",
    "    'B': ['10.5', '20.3', 'xyz', '40.2', '50.1'] \n",
    "}\n",
    "df = pd.DataFrame(data)\n",
    "print(\"Before applying pd.to_numeric:\")\n",
    "print(df)\n",
    "df = df.apply(pd.to_numeric, errors='coerce')\n",
    "print(\"\\nAfter applying pd.to_numeric(errors='coerce'):\")\n",
    "print(df)\n"
   ]
  },
  {
   "cell_type": "code",
   "execution_count": null,
   "id": "50d7fb04-5375-40e2-9d55-2bbad7c3f427",
   "metadata": {},
   "outputs": [],
   "source": []
  }
 ],
 "metadata": {
  "kernelspec": {
   "display_name": "Python 3 (ipykernel)",
   "language": "python",
   "name": "python3"
  },
  "language_info": {
   "codemirror_mode": {
    "name": "ipython",
    "version": 3
   },
   "file_extension": ".py",
   "mimetype": "text/x-python",
   "name": "python",
   "nbconvert_exporter": "python",
   "pygments_lexer": "ipython3",
   "version": "3.13.0"
  }
 },
 "nbformat": 4,
 "nbformat_minor": 5
}
